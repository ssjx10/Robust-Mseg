{
 "cells": [
  {
   "cell_type": "code",
   "execution_count": null,
   "metadata": {},
   "outputs": [],
   "source": [
    "import os\n",
    "import numpy as np\n",
    "import torch\n",
    "import torch.nn as nn\n",
    "from torch.utils.data import Dataset, DataLoader\n",
    "import h5py\n",
    "import glob\n",
    "from BraTSdataset import GBMset, GBMValidset, GBMValidset2\n",
    "import SimpleITK as sitk\n",
    "from sklearn.model_selection import train_test_split\n",
    "import matplotlib.pyplot as plt\n",
    "from itertools import chain, combinations\n",
    "\n",
    "from model import RobustMseg\n",
    "from transform import transforms\n",
    "from evaluation import eval_overlap_save, eval_overlap, eval_overlap_recon\n",
    "from utils import seed_everything\n",
    "\n",
    "os.environ[\"CUDA_DEVICE_ORDER\"]=\"PCI_BUS_ID\"   \n",
    "os.environ[\"CUDA_VISIBLE_DEVICES\"]=\"2\""
   ]
  },
  {
   "cell_type": "code",
   "execution_count": null,
   "metadata": {},
   "outputs": [],
   "source": [
    "MODALITIES = [0,1,2,3]\n",
    "def all_subsets(l):\n",
    "    #Does not include the empty set\n",
    "    subsets_modalities = list(chain(*map(lambda x: combinations(l, x), range(1, len(l)+1))))\n",
    "    return np.array([[True if k in subset else False for k in range(4)] for subset in subsets_modalities])\n",
    "\n",
    "SUBSETS_MODALITIES = all_subsets(MODALITIES)"
   ]
  },
  {
   "cell_type": "code",
   "execution_count": null,
   "metadata": {
    "scrolled": true
   },
   "outputs": [],
   "source": [
    "%%time\n",
    "pat_num = 285\n",
    "x_p = np.zeros(pat_num,)\n",
    "# target value\n",
    "y_p = np.zeros(pat_num,)\n",
    "indices = np.arange(pat_num)\n",
    "x_train_p, x_valid_p, y_train_p, y_valid_p, idx_train, idx_valid = train_test_split(x_p, y_p, indices, test_size=0.2, random_state=20)\n",
    "\n",
    "ov_validset = GBMset(sorted(idx_valid), transform=transforms(), lazy=True)\n",
    "ov_validloader = torch.utils.data.DataLoader(ov_validset, batch_size=1,\n",
    "                                          shuffle=False, num_workers=4)"
   ]
  },
  {
   "cell_type": "code",
   "execution_count": null,
   "metadata": {
    "scrolled": true
   },
   "outputs": [],
   "source": [
    "model = RobustMseg()\n",
    "model_name = 'dice_norm2_real_missing_adain'\n",
    "epoch = '360'\n",
    "model.load_state_dict(torch.load(f'{model_name}/{epoch}.pth')) \n",
    "model = nn.DataParallel(model)\n",
    "model.eval()\n",
    "model.cuda()"
   ]
  },
  {
   "cell_type": "code",
   "execution_count": null,
   "metadata": {},
   "outputs": [],
   "source": [
    "%%time\n",
    "# 112 - 1 : 12 /  draw 10 : \n",
    "seed = 20\n",
    "seed_everything(seed)\n",
    "crop_size = 112\n",
    "valid_batch = 10\n",
    "tot_eval = np.zeros((2, 3)) # dice hd95 - wt tc et\n",
    "for idx, subset in enumerate(SUBSETS_MODALITIES):\n",
    "#     if idx != 1:\n",
    "#         continue\n",
    "    result_text = ''\n",
    "    if subset[0]:\n",
    "        result_text += 'T1c '\n",
    "    else:\n",
    "        result_text += '    '\n",
    "    if subset[1]:\n",
    "        result_text += 'T1 '\n",
    "    else:\n",
    "        result_text += '   '\n",
    "    if subset[2]:\n",
    "        result_text += 'T2 '\n",
    "    else:\n",
    "        result_text += '   '\n",
    "    if subset[3]:\n",
    "        result_text += 'FLAIR |'\n",
    "    else:\n",
    "        result_text += '      |'\n",
    "    va_eval = eval_overlap(ov_validloader, model, idx, draw=None, patch_size=crop_size, overlap_stepsize=crop_size//2, batch_size=valid_batch,\n",
    "                           num_classes=4, verbose=False, save=False, dir_name=f'{model_name}_{epoch}')\n",
    "\n",
    "    tot_eval += va_eval\n",
    "    print(f'{result_text} {va_eval[0][0]*100:.2f} {va_eval[0][1]*100:.2f} {va_eval[0][2]*100:.2f} {va_eval[1][0]:.2f} {va_eval[1][1]:.2f} {va_eval[1][2]:.2f}')\n",
    "print(f'{\"Average\":16s}| {tot_eval[0][0]/15*100:.2f} {tot_eval[0][1]/15*100:.2f} {tot_eval[0][2]/15*100:.2f} {tot_eval[1][0]/15:.2f} {tot_eval[1][1]/15:.2f} {tot_eval[1][2]/15:.2f}')"
   ]
  }
 ],
 "metadata": {
  "kernelspec": {
   "display_name": "Python 3",
   "language": "python",
   "name": "python3"
  },
  "language_info": {
   "codemirror_mode": {
    "name": "ipython",
    "version": 3
   },
   "file_extension": ".py",
   "mimetype": "text/x-python",
   "name": "python",
   "nbconvert_exporter": "python",
   "pygments_lexer": "ipython3",
   "version": "3.6.10"
  }
 },
 "nbformat": 4,
 "nbformat_minor": 4
}
